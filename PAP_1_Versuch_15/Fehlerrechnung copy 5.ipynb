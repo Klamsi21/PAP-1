{
 "cells": [
  {
   "cell_type": "markdown",
   "metadata": {},
   "source": [
    "#Fehlerrechnung/Fehlerfortpflanzung\n",
    "--- No warranty that this works with any function ---<br>\n",
    "#### Jens Wagner 06/2015\n",
    "\n",
    "<a  href=\"http://www.physi.uni-heidelberg.de/Einrichtungen/AP/python/Fehlerrechnung.ipynb\"<font> Download this notebook</font></a>\n"
   ]
  },
  {
   "cell_type": "code",
   "execution_count": 34,
   "metadata": {
    "collapsed": true
   },
   "outputs": [],
   "source": [
    "import sympy as sp\n",
    "import sys\n",
    "from IPython.display import display, Math, Latex\n",
    "import math"
   ]
  },
  {
   "cell_type": "code",
   "execution_count": 35,
   "metadata": {
    "collapsed": false
   },
   "outputs": [],
   "source": [
    "#Hier die Variablen deklarieren/ \"d\" ist reserviert und darf nicht verwendet werden\n",
    "m, r1, r2= sp.symbols('m r_1 r_2') #hier Eure Variablennamen einsetzen\n",
    "variablen = [m, r1, r2]         #hier Eure Variablennamen einsetzen\n",
    "#Zahlenwerte und Fehlerwerte\n",
    "variablen_werte =   [0.442   ,0.025025  ,0.020350]  #Werte h=2.8, r=4.2, T=2.4 /hier Eure Werte einsetzen\n",
    "fehler_werte =      [0.001   ,0.000025  ,0.000025]     # dito fuer die Fehler /hier Eure Werte einsetzen"
   ]
  },
  {
   "cell_type": "code",
   "execution_count": null,
   "metadata": {},
   "outputs": [],
   "source": []
  },
  {
   "cell_type": "code",
   "execution_count": 36,
   "metadata": {
    "collapsed": false
   },
   "outputs": [],
   "source": [
    "\"\"\"\"\n",
    "Hier die Funktion deklarieren\n",
    "Potenzen a hoch b: a**b\n",
    "bei Funktionen wie sin, sqrt, etc. den Namensraum \"sp\" vorransetzen z.B. sp.sin()\"\"\"\n",
    "\n",
    "funktion = (1/2 * m* (r1**2 + r2**2))"
   ]
  },
  {
   "cell_type": "code",
   "execution_count": 37,
   "metadata": {
    "collapsed": false
   },
   "outputs": [],
   "source": [
    "fehler = 0\n",
    "fehlersymbole=[]\n",
    "ableitungen_quadr = []\n",
    "\n",
    "for var in variablen:\n",
    "    d = sp.symbols('d' + var.name)        #Symbole fuer die Fehler generieren\n",
    "    fehlersymbole.append(d)               #Fehlersymbole in Liste eintragen\n",
    "    partial = sp.diff(funktion, var) * d  #Partielle Differentation und mit mit Fehlersymbol 'd' multiplizieren\n",
    "    ableitungen_quadr.append(partial**2)  \n",
    "    fehler = fehler + partial**2\n",
    "\n",
    "fehler_abs=sp.simplify(sp.sqrt(fehler))              #Latex Format fuer den absoluten Fehler\n",
    "fehler_rel=sp.simplify(sp.sqrt(fehler/funktion**2))  #Latex Format fuer den relativen Fehler"
   ]
  },
  {
   "cell_type": "code",
   "execution_count": 38,
   "metadata": {
    "collapsed": false
   },
   "outputs": [],
   "source": [
    "#Berechnung der Zahlenwerte\n",
    "funktions_wert=sp.Subs(funktion,variablen,variablen_werte).doit() #Variablenwerte (Zahlen) in Formel einsetzen und\n",
    "                                                                  #Funktionswert berechnen\n",
    "err1=sp.Subs(fehler,variablen,variablen_werte).doit()             #Variablenwerte (Zahlen) in FehlerFormel einsetzen \n",
    "\n",
    "err2=sp.Subs(err1,fehlersymbole,fehler_werte).doit()              #Variablenwerte (Zahlen) in FehlerFormel einsetzen und\n",
    "                                                                  #Funktionswert berechnen"
   ]
  },
  {
   "cell_type": "code",
   "execution_count": 39,
   "metadata": {
    "collapsed": false,
    "scrolled": true
   },
   "outputs": [
    {
     "name": "stdout",
     "output_type": "stream",
     "text": [
      "Funktion:\n"
     ]
    },
    {
     "name": "stderr",
     "output_type": "stream",
     "text": [
      "<>:7: SyntaxWarning: invalid escape sequence '\\p'\n",
      "<>:14: SyntaxWarning: invalid escape sequence '\\p'\n",
      "<>:15: SyntaxWarning: invalid escape sequence '\\p'\n",
      "<>:15: SyntaxWarning: invalid escape sequence '\\%'\n",
      "<>:7: SyntaxWarning: invalid escape sequence '\\p'\n",
      "<>:14: SyntaxWarning: invalid escape sequence '\\p'\n",
      "<>:15: SyntaxWarning: invalid escape sequence '\\p'\n",
      "<>:15: SyntaxWarning: invalid escape sequence '\\%'\n",
      "/var/folders/nb/mg7bd70x1jn25d7n9wkzr6gc0000gn/T/ipykernel_5740/2333728547.py:7: SyntaxWarning: invalid escape sequence '\\p'\n",
      "  display(Math(str(variablen[i])+'='+ str(variablen_werte[i])+'\\pm '+ str(fehler_werte[i])))  #Messwerte mit Fehler\n",
      "/var/folders/nb/mg7bd70x1jn25d7n9wkzr6gc0000gn/T/ipykernel_5740/2333728547.py:14: SyntaxWarning: invalid escape sequence '\\p'\n",
      "  display(Math(\"f= %6.2f \\pm %6.2f\" %(funktions_wert,sp.sqrt(err2))))        #Messwert und Wert des absoluten Fehler\n",
      "/var/folders/nb/mg7bd70x1jn25d7n9wkzr6gc0000gn/T/ipykernel_5740/2333728547.py:15: SyntaxWarning: invalid escape sequence '\\p'\n",
      "  display(Math(\"f= %6.2f \\pm %6.1f %s\" %(funktions_wert,sp.sqrt(err2)/funktions_wert*100,\" \\%\"))) #dito als relativer Fehler\n",
      "/var/folders/nb/mg7bd70x1jn25d7n9wkzr6gc0000gn/T/ipykernel_5740/2333728547.py:15: SyntaxWarning: invalid escape sequence '\\%'\n",
      "  display(Math(\"f= %6.2f \\pm %6.1f %s\" %(funktions_wert,sp.sqrt(err2)/funktions_wert*100,\" \\%\"))) #dito als relativer Fehler\n"
     ]
    },
    {
     "data": {
      "text/latex": [
       "$\\displaystyle f=0.5 m \\left(r_{1}^{2} + r_{2}^{2}\\right)$"
      ],
      "text/plain": [
       "<IPython.core.display.Math object>"
      ]
     },
     "metadata": {},
     "output_type": "display_data"
    },
    {
     "name": "stdout",
     "output_type": "stream",
     "text": [
      "Messwerte:\n"
     ]
    },
    {
     "data": {
      "text/latex": [
       "$\\displaystyle m=0.442\\pm 0.001$"
      ],
      "text/plain": [
       "<IPython.core.display.Math object>"
      ]
     },
     "metadata": {},
     "output_type": "display_data"
    },
    {
     "data": {
      "text/latex": [
       "$\\displaystyle r_1=0.025025\\pm 2.5e-05$"
      ],
      "text/plain": [
       "<IPython.core.display.Math object>"
      ]
     },
     "metadata": {},
     "output_type": "display_data"
    },
    {
     "data": {
      "text/latex": [
       "$\\displaystyle r_2=0.02035\\pm 2.5e-05$"
      ],
      "text/plain": [
       "<IPython.core.display.Math object>"
      ]
     },
     "metadata": {},
     "output_type": "display_data"
    },
    {
     "name": "stdout",
     "output_type": "stream",
     "text": [
      "Absoluter Fehler:\n"
     ]
    },
    {
     "data": {
      "text/latex": [
       "$\\displaystyle \\Delta f=\\sqrt{0.25 \\Delta m^{2} \\left(r_{1}^{2} + r_{2}^{2}\\right)^{2} + 1.0 \\Delta r_{1}^{2} m^{2} r_{1}^{2} + 1.0 \\Delta r_{2}^{2} m^{2} r_{2}^{2}}$"
      ],
      "text/plain": [
       "<IPython.core.display.Math object>"
      ]
     },
     "metadata": {},
     "output_type": "display_data"
    },
    {
     "name": "stdout",
     "output_type": "stream",
     "text": [
      "Relativer Fehler:\n"
     ]
    },
    {
     "data": {
      "text/latex": [
       "$\\displaystyle \\Delta f/f=2.0 \\sqrt{\\frac{0.25 \\Delta m^{2}}{m^{2}} + \\frac{1.0 \\Delta r_{1}^{2} r_{1}^{2}}{\\left(r_{1}^{2} + r_{2}^{2}\\right)^{2}} + \\frac{1.0 \\Delta r_{2}^{2} r_{2}^{2}}{\\left(r_{1}^{2} + r_{2}^{2}\\right)^{2}}}$"
      ],
      "text/plain": [
       "<IPython.core.display.Math object>"
      ]
     },
     "metadata": {},
     "output_type": "display_data"
    },
    {
     "name": "stdout",
     "output_type": "stream",
     "text": [
      "\\Delta f/f=2.0 \\sqrt{\\frac{0.25 \\Delta m^{2}}{m^{2}} + \\frac{1.0 \\Delta r_{1}^{2} r_{1}^{2}}{\\left(r_{1}^{2} + r_{2}^{2}\\right)^{2}} + \\frac{1.0 \\Delta r_{2}^{2} r_{2}^{2}}{\\left(r_{1}^{2} + r_{2}^{2}\\right)^{2}}}\n"
     ]
    },
    {
     "data": {
      "text/latex": [
       "$\\displaystyle f=   0.00 \\pm   0.00$"
      ],
      "text/plain": [
       "<IPython.core.display.Math object>"
      ]
     },
     "metadata": {},
     "output_type": "display_data"
    },
    {
     "data": {
      "text/latex": [
       "$\\displaystyle f=   0.00 \\pm    0.3  \\%$"
      ],
      "text/plain": [
       "<IPython.core.display.Math object>"
      ]
     },
     "metadata": {},
     "output_type": "display_data"
    }
   ],
   "source": [
    "#Latex Darstellungen\n",
    "print('Funktion:')\n",
    "display(Math(\"f=\"+sp.latex(funktion)))\n",
    "\n",
    "print('Messwerte:')\n",
    "for i in range(len(variablen)):\n",
    "    display(Math(str(variablen[i])+'='+ str(variablen_werte[i])+'\\pm '+ str(fehler_werte[i])))  #Messwerte mit Fehler\n",
    "\n",
    "print('Absoluter Fehler:')\n",
    "display(Math(r'\\Delta f='+sp.latex(fehler_abs).replace('d',r'\\Delta ')))   #Formel absoluter Fehler\n",
    "print('Relativer Fehler:')\n",
    "display(Math(r\"\\Delta f/f=\"+sp.latex(fehler_rel).replace('d',r'\\Delta ')))\n",
    "print(str((r\"\\Delta f/f=\"+sp.latex(fehler_rel).replace('d',r'\\Delta '))))\n",
    "display(Math(\"f= %6.2f \\pm %6.2f\" %(funktions_wert,sp.sqrt(err2))))        #Messwert und Wert des absoluten Fehler\n",
    "display(Math(\"f= %6.2f \\pm %6.1f %s\" %(funktions_wert,sp.sqrt(err2)/funktions_wert*100,\" \\%\"))) #dito als relativer Fehler"
   ]
  }
 ],
 "metadata": {
  "kernelspec": {
   "display_name": "Python 3",
   "language": "python",
   "name": "python3"
  },
  "language_info": {
   "codemirror_mode": {
    "name": "ipython",
    "version": 3
   },
   "file_extension": ".py",
   "mimetype": "text/x-python",
   "name": "python",
   "nbconvert_exporter": "python",
   "pygments_lexer": "ipython3",
   "version": "3.13.1"
  }
 },
 "nbformat": 4,
 "nbformat_minor": 0
}
