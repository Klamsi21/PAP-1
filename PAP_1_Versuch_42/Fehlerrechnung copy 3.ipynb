{
 "cells": [
  {
   "cell_type": "markdown",
   "metadata": {},
   "source": [
    "#Fehlerrechnung/Fehlerfortpflanzung\n",
    "--- No warranty that this works with any function ---<br>\n",
    "#### Jens Wagner 06/2015\n",
    "\n",
    "<a  href=\"http://www.physi.uni-heidelberg.de/Einrichtungen/AP/python/Fehlerrechnung.ipynb\"<font> Download this notebook</font></a>\n"
   ]
  },
  {
   "cell_type": "code",
   "execution_count": 37,
   "metadata": {
    "collapsed": true
   },
   "outputs": [],
   "source": [
    "import sympy as sp\n",
    "import sys\n",
    "from IPython.display import display, Math, Latex\n",
    "import math"
   ]
  },
  {
   "cell_type": "code",
   "execution_count": 38,
   "metadata": {
    "collapsed": false
   },
   "outputs": [],
   "source": [
    "#Hier die Variablen deklarieren/ \"d\" ist reserviert und darf nicht verwendet werden\n",
    "J, m, d= sp.symbols('J m a') #hier Eure Variablennamen einsetzen\n",
    "variablen = [J, m, d]         #hier Eure Variablennamen einsetzen\n",
    "#Zahlenwerte und Fehlerwerte\n",
    "variablen_werte = [2.3*10**(-3), 0.667, 0.03]  #Werte h=2.8, r=4.2, T=2.4 /hier Eure Werte einsetzen\n",
    "fehler_werte = [0.1 * 10**(-3), 0.0005, 0.0005]     # dito fuer die Fehler /hier Eure Werte einsetzen"
   ]
  },
  {
   "cell_type": "code",
   "execution_count": null,
   "metadata": {},
   "outputs": [],
   "source": []
  },
  {
   "cell_type": "code",
   "execution_count": 39,
   "metadata": {
    "collapsed": false
   },
   "outputs": [],
   "source": [
    "\"\"\"\"\n",
    "Hier die Funktion deklarieren\n",
    "Potenzen a hoch b: a**b\n",
    "bei Funktionen wie sin, sqrt, etc. den Namensraum \"sp\" vorransetzen z.B. sp.sin()\"\"\"\n",
    "\n",
    "funktion = (J+m*d**2)*1000"
   ]
  },
  {
   "cell_type": "code",
   "execution_count": 40,
   "metadata": {
    "collapsed": false
   },
   "outputs": [],
   "source": [
    "fehler = 0\n",
    "fehlersymbole=[]\n",
    "ableitungen_quadr = []\n",
    "\n",
    "for var in variablen:\n",
    "    d = sp.symbols('d' + var.name)        #Symbole fuer die Fehler generieren\n",
    "    fehlersymbole.append(d)               #Fehlersymbole in Liste eintragen\n",
    "    partial = sp.diff(funktion, var) * d  #Partielle Differentation und mit mit Fehlersymbol 'd' multiplizieren\n",
    "    ableitungen_quadr.append(partial**2)  \n",
    "    fehler = fehler + partial**2\n",
    "\n",
    "fehler_abs=sp.simplify(sp.sqrt(fehler))              #Latex Format fuer den absoluten Fehler\n",
    "fehler_rel=sp.simplify(sp.sqrt(fehler/funktion**2))  #Latex Format fuer den relativen Fehler"
   ]
  },
  {
   "cell_type": "code",
   "execution_count": 41,
   "metadata": {
    "collapsed": false
   },
   "outputs": [],
   "source": [
    "#Berechnung der Zahlenwerte\n",
    "funktions_wert=sp.Subs(funktion,variablen,variablen_werte).doit() #Variablenwerte (Zahlen) in Formel einsetzen und\n",
    "                                                                  #Funktionswert berechnen\n",
    "err1=sp.Subs(fehler,variablen,variablen_werte).doit()             #Variablenwerte (Zahlen) in FehlerFormel einsetzen \n",
    "\n",
    "err2=sp.Subs(err1,fehlersymbole,fehler_werte).doit()              #Variablenwerte (Zahlen) in FehlerFormel einsetzen und\n",
    "                                                                  #Funktionswert berechnen"
   ]
  },
  {
   "cell_type": "code",
   "execution_count": 42,
   "metadata": {
    "collapsed": false,
    "scrolled": true
   },
   "outputs": [
    {
     "name": "stdout",
     "output_type": "stream",
     "text": [
      "Funktion:\n"
     ]
    },
    {
     "name": "stderr",
     "output_type": "stream",
     "text": [
      "<>:7: SyntaxWarning: invalid escape sequence '\\p'\n",
      "<>:14: SyntaxWarning: invalid escape sequence '\\p'\n",
      "<>:15: SyntaxWarning: invalid escape sequence '\\p'\n",
      "<>:15: SyntaxWarning: invalid escape sequence '\\%'\n",
      "<>:7: SyntaxWarning: invalid escape sequence '\\p'\n",
      "<>:14: SyntaxWarning: invalid escape sequence '\\p'\n",
      "<>:15: SyntaxWarning: invalid escape sequence '\\p'\n",
      "<>:15: SyntaxWarning: invalid escape sequence '\\%'\n",
      "/var/folders/nb/mg7bd70x1jn25d7n9wkzr6gc0000gn/T/ipykernel_4633/2333728547.py:7: SyntaxWarning: invalid escape sequence '\\p'\n",
      "  display(Math(str(variablen[i])+'='+ str(variablen_werte[i])+'\\pm '+ str(fehler_werte[i])))  #Messwerte mit Fehler\n",
      "/var/folders/nb/mg7bd70x1jn25d7n9wkzr6gc0000gn/T/ipykernel_4633/2333728547.py:14: SyntaxWarning: invalid escape sequence '\\p'\n",
      "  display(Math(\"f= %6.2f \\pm %6.2f\" %(funktions_wert,sp.sqrt(err2))))        #Messwert und Wert des absoluten Fehler\n",
      "/var/folders/nb/mg7bd70x1jn25d7n9wkzr6gc0000gn/T/ipykernel_4633/2333728547.py:15: SyntaxWarning: invalid escape sequence '\\p'\n",
      "  display(Math(\"f= %6.2f \\pm %6.1f %s\" %(funktions_wert,sp.sqrt(err2)/funktions_wert*100,\" \\%\"))) #dito als relativer Fehler\n",
      "/var/folders/nb/mg7bd70x1jn25d7n9wkzr6gc0000gn/T/ipykernel_4633/2333728547.py:15: SyntaxWarning: invalid escape sequence '\\%'\n",
      "  display(Math(\"f= %6.2f \\pm %6.1f %s\" %(funktions_wert,sp.sqrt(err2)/funktions_wert*100,\" \\%\"))) #dito als relativer Fehler\n"
     ]
    },
    {
     "data": {
      "text/latex": [
       "$\\displaystyle f=1000 J + 1000 a^{2} m$"
      ],
      "text/plain": [
       "<IPython.core.display.Math object>"
      ]
     },
     "metadata": {},
     "output_type": "display_data"
    },
    {
     "name": "stdout",
     "output_type": "stream",
     "text": [
      "Messwerte:\n"
     ]
    },
    {
     "data": {
      "text/latex": [
       "$\\displaystyle J=0.0023\\pm 0.0001$"
      ],
      "text/plain": [
       "<IPython.core.display.Math object>"
      ]
     },
     "metadata": {},
     "output_type": "display_data"
    },
    {
     "data": {
      "text/latex": [
       "$\\displaystyle m=0.667\\pm 0.0005$"
      ],
      "text/plain": [
       "<IPython.core.display.Math object>"
      ]
     },
     "metadata": {},
     "output_type": "display_data"
    },
    {
     "data": {
      "text/latex": [
       "$\\displaystyle a=0.03\\pm 0.0005$"
      ],
      "text/plain": [
       "<IPython.core.display.Math object>"
      ]
     },
     "metadata": {},
     "output_type": "display_data"
    },
    {
     "name": "stdout",
     "output_type": "stream",
     "text": [
      "Absoluter Fehler:\n"
     ]
    },
    {
     "data": {
      "text/latex": [
       "$\\displaystyle \\Delta f=1000 \\sqrt{a^{4} \\Delta m^{2} + 4 a^{2} \\Delta a^{2} m^{2} + \\Delta J^{2}}$"
      ],
      "text/plain": [
       "<IPython.core.display.Math object>"
      ]
     },
     "metadata": {},
     "output_type": "display_data"
    },
    {
     "name": "stdout",
     "output_type": "stream",
     "text": [
      "Relativer Fehler:\n"
     ]
    },
    {
     "data": {
      "text/latex": [
       "$\\displaystyle \\Delta f/f=\\sqrt{\\frac{a^{4} \\Delta m^{2} + 4 a^{2} \\Delta a^{2} m^{2} + \\Delta J^{2}}{\\left(J + a^{2} m\\right)^{2}}}$"
      ],
      "text/plain": [
       "<IPython.core.display.Math object>"
      ]
     },
     "metadata": {},
     "output_type": "display_data"
    },
    {
     "name": "stdout",
     "output_type": "stream",
     "text": [
      "\\Delta f/f=\\sqrt{\\frac{a^{4} \\Delta m^{2} + 4 a^{2} \\Delta a^{2} m^{2} + \\Delta J^{2}}{\\left(J + a^{2} m\\right)^{2}}}\n"
     ]
    },
    {
     "data": {
      "text/latex": [
       "$\\displaystyle f=   2.90 \\pm   0.10$"
      ],
      "text/plain": [
       "<IPython.core.display.Math object>"
      ]
     },
     "metadata": {},
     "output_type": "display_data"
    },
    {
     "data": {
      "text/latex": [
       "$\\displaystyle f=   2.90 \\pm    3.5  \\%$"
      ],
      "text/plain": [
       "<IPython.core.display.Math object>"
      ]
     },
     "metadata": {},
     "output_type": "display_data"
    }
   ],
   "source": [
    "#Latex Darstellungen\n",
    "print('Funktion:')\n",
    "display(Math(\"f=\"+sp.latex(funktion)))\n",
    "\n",
    "print('Messwerte:')\n",
    "for i in range(len(variablen)):\n",
    "    display(Math(str(variablen[i])+'='+ str(variablen_werte[i])+'\\pm '+ str(fehler_werte[i])))  #Messwerte mit Fehler\n",
    "\n",
    "print('Absoluter Fehler:')\n",
    "display(Math(r'\\Delta f='+sp.latex(fehler_abs).replace('d',r'\\Delta ')))   #Formel absoluter Fehler\n",
    "print('Relativer Fehler:')\n",
    "display(Math(r\"\\Delta f/f=\"+sp.latex(fehler_rel).replace('d',r'\\Delta ')))\n",
    "print(str((r\"\\Delta f/f=\"+sp.latex(fehler_rel).replace('d',r'\\Delta '))))\n",
    "display(Math(\"f= %6.2f \\pm %6.2f\" %(funktions_wert,sp.sqrt(err2))))        #Messwert und Wert des absoluten Fehler\n",
    "display(Math(\"f= %6.2f \\pm %6.1f %s\" %(funktions_wert,sp.sqrt(err2)/funktions_wert*100,\" \\%\"))) #dito als relativer Fehler"
   ]
  }
 ],
 "metadata": {
  "kernelspec": {
   "display_name": "Python 3",
   "language": "python",
   "name": "python3"
  },
  "language_info": {
   "codemirror_mode": {
    "name": "ipython",
    "version": 3
   },
   "file_extension": ".py",
   "mimetype": "text/x-python",
   "name": "python",
   "nbconvert_exporter": "python",
   "pygments_lexer": "ipython3",
   "version": "3.13.1"
  }
 },
 "nbformat": 4,
 "nbformat_minor": 0
}
