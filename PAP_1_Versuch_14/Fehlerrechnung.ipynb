{
 "cells": [
  {
   "cell_type": "markdown",
   "metadata": {},
   "source": [
    "#Fehlerrechnung/Fehlerfortpflanzung\n",
    "--- No warranty that this works with any function ---<br>\n",
    "#### Jens Wagner 06/2015\n",
    "\n",
    "<a  href=\"http://www.physi.uni-heidelberg.de/Einrichtungen/AP/python/Fehlerrechnung.ipynb\"<font> Download this notebook</font></a>\n"
   ]
  },
  {
   "cell_type": "code",
   "execution_count": 62,
   "metadata": {
    "collapsed": true
   },
   "outputs": [],
   "source": [
    "import sympy as sp\n",
    "import sys\n",
    "from IPython.display import display, Math, Latex\n",
    "import math"
   ]
  },
  {
   "cell_type": "code",
   "execution_count": 63,
   "metadata": {
    "collapsed": false
   },
   "outputs": [],
   "source": [
    "#Hier die Variablen deklarieren/ \"d\" ist reserviert und darf nicht verwendet werden\n",
    "T0, mk, mf, l, phi, delt, w, r, rhol, rhok= sp.symbols('T_0 m_K m_F l varphi delta omega_0 r rho_L rho_K') #hier Eure Variablennamen einsetzen\n",
    "variablen = [T0, mk, mf, l, phi, delt, w, r, rhol, rhok]         #hier Eure Variablennamen einsetzen\n",
    "#Zahlenwerte und Fehlerwerte\n",
    "variablen_werte = [1.97, 0.0605, 0.00023, 0.9627, 0.163, 158.0*10**(-5), 3.19 , 0.012, 0.0000011455, 7.86]  #Werte h=2.8, r=4.2, T=2.4 /hier Eure Werte einsetzen\n",
    "fehler_werte = [0, 0.0015, 0, 0.0015, 0.012, 4.0*10**(-5), 0, 0.0007, 0, 0]     # dito fuer die Fehler /hier Eure Werte einsetzen"
   ]
  },
  {
   "cell_type": "code",
   "execution_count": null,
   "metadata": {},
   "outputs": [],
   "source": []
  },
  {
   "cell_type": "code",
   "execution_count": 64,
   "metadata": {
    "collapsed": false
   },
   "outputs": [],
   "source": [
    "\"\"\"\"\n",
    "Hier die Funktion deklarieren\n",
    "Potenzen a hoch b: a**b\n",
    "bei Funktionen wie sin, sqrt, etc. den Namensraum \"sp\" vorransetzen z.B. sp.sin()\"\"\"\n",
    "\n",
    "funktion = (4*(math.pi**2)*(l/(T0**2))*(1+ 2/5 * (r**2)/(l**2) + rhol/rhok - (mf)/(6*mk) + (delt**2)/(w**2) + (phi**2)/8))*1000"
   ]
  },
  {
   "cell_type": "code",
   "execution_count": 65,
   "metadata": {
    "collapsed": false
   },
   "outputs": [],
   "source": [
    "fehler = 0\n",
    "fehlersymbole=[]\n",
    "ableitungen_quadr = []\n",
    "\n",
    "for var in variablen:\n",
    "    d = sp.symbols('d' + var.name)        #Symbole fuer die Fehler generieren\n",
    "    fehlersymbole.append(d)               #Fehlersymbole in Liste eintragen\n",
    "    partial = sp.diff(funktion, var) * d  #Partielle Differentation und mit mit Fehlersymbol 'd' multiplizieren\n",
    "    ableitungen_quadr.append(partial**2)  \n",
    "    fehler = fehler + partial**2\n",
    "\n",
    "fehler_abs=sp.simplify(sp.sqrt(fehler))              #Latex Format fuer den absoluten Fehler\n",
    "fehler_rel=sp.simplify(sp.sqrt(fehler/funktion**2))  #Latex Format fuer den relativen Fehler"
   ]
  },
  {
   "cell_type": "code",
   "execution_count": 66,
   "metadata": {
    "collapsed": false
   },
   "outputs": [],
   "source": [
    "#Berechnung der Zahlenwerte\n",
    "funktions_wert=sp.Subs(funktion,variablen,variablen_werte).doit() #Variablenwerte (Zahlen) in Formel einsetzen und\n",
    "                                                                  #Funktionswert berechnen\n",
    "err1=sp.Subs(fehler,variablen,variablen_werte).doit()             #Variablenwerte (Zahlen) in FehlerFormel einsetzen \n",
    "\n",
    "err2=sp.Subs(err1,fehlersymbole,fehler_werte).doit()              #Variablenwerte (Zahlen) in FehlerFormel einsetzen und\n",
    "                                                                  #Funktionswert berechnen"
   ]
  },
  {
   "cell_type": "code",
   "execution_count": 67,
   "metadata": {
    "collapsed": false,
    "scrolled": true
   },
   "outputs": [
    {
     "name": "stdout",
     "output_type": "stream",
     "text": [
      "Funktion:\n"
     ]
    },
    {
     "name": "stderr",
     "output_type": "stream",
     "text": [
      "<>:7: SyntaxWarning: invalid escape sequence '\\p'\n",
      "<>:14: SyntaxWarning: invalid escape sequence '\\p'\n",
      "<>:15: SyntaxWarning: invalid escape sequence '\\p'\n",
      "<>:15: SyntaxWarning: invalid escape sequence '\\%'\n",
      "<>:7: SyntaxWarning: invalid escape sequence '\\p'\n",
      "<>:14: SyntaxWarning: invalid escape sequence '\\p'\n",
      "<>:15: SyntaxWarning: invalid escape sequence '\\p'\n",
      "<>:15: SyntaxWarning: invalid escape sequence '\\%'\n",
      "/var/folders/nb/mg7bd70x1jn25d7n9wkzr6gc0000gn/T/ipykernel_6111/2333728547.py:7: SyntaxWarning: invalid escape sequence '\\p'\n",
      "  display(Math(str(variablen[i])+'='+ str(variablen_werte[i])+'\\pm '+ str(fehler_werte[i])))  #Messwerte mit Fehler\n",
      "/var/folders/nb/mg7bd70x1jn25d7n9wkzr6gc0000gn/T/ipykernel_6111/2333728547.py:14: SyntaxWarning: invalid escape sequence '\\p'\n",
      "  display(Math(\"f= %6.2f \\pm %6.2f\" %(funktions_wert,sp.sqrt(err2))))        #Messwert und Wert des absoluten Fehler\n",
      "/var/folders/nb/mg7bd70x1jn25d7n9wkzr6gc0000gn/T/ipykernel_6111/2333728547.py:15: SyntaxWarning: invalid escape sequence '\\p'\n",
      "  display(Math(\"f= %6.2f \\pm %6.1f %s\" %(funktions_wert,sp.sqrt(err2)/funktions_wert*100,\" \\%\"))) #dito als relativer Fehler\n",
      "/var/folders/nb/mg7bd70x1jn25d7n9wkzr6gc0000gn/T/ipykernel_6111/2333728547.py:15: SyntaxWarning: invalid escape sequence '\\%'\n",
      "  display(Math(\"f= %6.2f \\pm %6.1f %s\" %(funktions_wert,sp.sqrt(err2)/funktions_wert*100,\" \\%\"))) #dito als relativer Fehler\n"
     ]
    },
    {
     "data": {
      "text/latex": [
       "$\\displaystyle f=\\frac{39478.4176043574 l \\left(\\frac{\\delta^{2}}{\\omega_{0}^{2}} - \\frac{m_{F}}{6 m_{K}} + \\frac{\\varphi^{2}}{8} + 1 + \\frac{\\rho_{L}}{\\rho_{K}} + \\frac{0.4 r^{2}}{l^{2}}\\right)}{T_{0}^{2}}$"
      ],
      "text/plain": [
       "<IPython.core.display.Math object>"
      ]
     },
     "metadata": {},
     "output_type": "display_data"
    },
    {
     "name": "stdout",
     "output_type": "stream",
     "text": [
      "Messwerte:\n"
     ]
    },
    {
     "data": {
      "text/latex": [
       "$\\displaystyle T_0=1.97\\pm 0$"
      ],
      "text/plain": [
       "<IPython.core.display.Math object>"
      ]
     },
     "metadata": {},
     "output_type": "display_data"
    },
    {
     "data": {
      "text/latex": [
       "$\\displaystyle m_K=0.0605\\pm 0.0015$"
      ],
      "text/plain": [
       "<IPython.core.display.Math object>"
      ]
     },
     "metadata": {},
     "output_type": "display_data"
    },
    {
     "data": {
      "text/latex": [
       "$\\displaystyle m_F=0.00023\\pm 0$"
      ],
      "text/plain": [
       "<IPython.core.display.Math object>"
      ]
     },
     "metadata": {},
     "output_type": "display_data"
    },
    {
     "data": {
      "text/latex": [
       "$\\displaystyle l=0.9627\\pm 0.0015$"
      ],
      "text/plain": [
       "<IPython.core.display.Math object>"
      ]
     },
     "metadata": {},
     "output_type": "display_data"
    },
    {
     "data": {
      "text/latex": [
       "$\\displaystyle varphi=0.163\\pm 0.012$"
      ],
      "text/plain": [
       "<IPython.core.display.Math object>"
      ]
     },
     "metadata": {},
     "output_type": "display_data"
    },
    {
     "data": {
      "text/latex": [
       "$\\displaystyle delta=0.00158\\pm 4e-05$"
      ],
      "text/plain": [
       "<IPython.core.display.Math object>"
      ]
     },
     "metadata": {},
     "output_type": "display_data"
    },
    {
     "data": {
      "text/latex": [
       "$\\displaystyle omega_0=3.19\\pm 0$"
      ],
      "text/plain": [
       "<IPython.core.display.Math object>"
      ]
     },
     "metadata": {},
     "output_type": "display_data"
    },
    {
     "data": {
      "text/latex": [
       "$\\displaystyle r=0.012\\pm 0.0007$"
      ],
      "text/plain": [
       "<IPython.core.display.Math object>"
      ]
     },
     "metadata": {},
     "output_type": "display_data"
    },
    {
     "data": {
      "text/latex": [
       "$\\displaystyle rho_L=1.1455e-06\\pm 0$"
      ],
      "text/plain": [
       "<IPython.core.display.Math object>"
      ]
     },
     "metadata": {},
     "output_type": "display_data"
    },
    {
     "data": {
      "text/latex": [
       "$\\displaystyle rho_K=7.86\\pm 0$"
      ],
      "text/plain": [
       "<IPython.core.display.Math object>"
      ]
     },
     "metadata": {},
     "output_type": "display_data"
    },
    {
     "name": "stdout",
     "output_type": "stream",
     "text": [
      "Absoluter Fehler:\n"
     ]
    },
    {
     "data": {
      "text/latex": [
       "$\\displaystyle \\Delta f=\\sqrt{\\frac{6234181826.17616 \\Delta \\Delta elta^{2} \\\\Delta elta^{2} l^{2}}{T_{0}^{4} \\omega_{0}^{4}} + \\frac{6234181826.17616 \\\\Delta elta^{4} \\Delta omega_{0}^{2} l^{2}}{T_{0}^{4} \\omega_{0}^{6}} + \\frac{\\Delta l^{2} \\left(39478.4176043574 \\\\Delta elta^{2} l^{2} m_{K} \\rho_{K} - 6579.73626739291 l^{2} m_{F} \\omega_{0}^{2} \\rho_{K} + 4934.80220054468 l^{2} m_{K} \\omega_{0}^{2} \\rho_{K} \\varphi^{2} + 39478.4176043574 l^{2} m_{K} \\omega_{0}^{2} \\rho_{K} + 39478.4176043574 l^{2} m_{K} \\omega_{0}^{2} \\rho_{L} - 15791.367041743 m_{K} \\omega_{0}^{2} r^{2} \\rho_{K}\\right)^{2}}{T_{0}^{4} l^{4} m_{K}^{2} \\omega_{0}^{4} \\rho_{K}^{2}} + \\frac{43292929.3484455 \\Delta m_{F}^{2} l^{2}}{T_{0}^{4} m_{K}^{2}} + \\frac{43292929.3484455 \\Delta m_{K}^{2} l^{2} m_{F}^{2}}{T_{0}^{4} m_{K}^{4}} + \\frac{997469092.188185 \\Delta r^{2} r^{2}}{T_{0}^{4} l^{2}} + \\frac{1558545456.54404 \\Delta rho_{K}^{2} l^{2} \\rho_{L}^{2}}{T_{0}^{4} \\rho_{K}^{4}} + \\frac{1558545456.54404 \\Delta rho_{L}^{2} l^{2}}{T_{0}^{4} \\rho_{K}^{2}} + \\frac{97409091.0340024 \\Delta varphi^{2} l^{2} \\varphi^{2}}{T_{0}^{4}} + \\frac{10823232.3371114 \\Delta T_{0}^{2} \\left(24 \\\\Delta elta^{2} l^{2} m_{K} \\rho_{K} - 4 l^{2} m_{F} \\omega_{0}^{2} \\rho_{K} + 3 l^{2} m_{K} \\omega_{0}^{2} \\rho_{K} \\varphi^{2} + 24 l^{2} m_{K} \\omega_{0}^{2} \\rho_{K} + 24 l^{2} m_{K} \\omega_{0}^{2} \\rho_{L} + 9.6 m_{K} \\omega_{0}^{2} r^{2} \\rho_{K}\\right)^{2}}{T_{0}^{6} l^{2} m_{K}^{2} \\omega_{0}^{4} \\rho_{K}^{2}}}$"
      ],
      "text/plain": [
       "<IPython.core.display.Math object>"
      ]
     },
     "metadata": {},
     "output_type": "display_data"
    },
    {
     "name": "stdout",
     "output_type": "stream",
     "text": [
      "Relativer Fehler:\n"
     ]
    },
    {
     "data": {
      "text/latex": [
       "$\\displaystyle \\Delta f/f=2.53302959105844 \\c\\Delta ot 10^{-5} \\sqrt{\\frac{3590888731877.47 T_{0}^{2} \\Delta \\Delta elta^{2} \\\\Delta elta^{2} l^{6} m_{K}^{4} \\omega_{0}^{2} \\rho_{K}^{4} + 3590888731877.47 T_{0}^{2} \\\\Delta elta^{4} \\Delta omega_{0}^{2} l^{6} m_{K}^{4} \\rho_{K}^{4} + 576 T_{0}^{2} \\Delta l^{2} m_{K}^{2} \\omega_{0}^{2} \\rho_{K}^{2} \\left(39478.4176043574 \\\\Delta elta^{2} l^{2} m_{K} \\rho_{K} - 6579.73626739291 l^{2} m_{F} \\omega_{0}^{2} \\rho_{K} + 4934.80220054468 l^{2} m_{K} \\omega_{0}^{2} \\rho_{K} \\left(\\varphi^{2} + 8\\right) + 39478.4176043574 l^{2} m_{K} \\omega_{0}^{2} \\rho_{L} - 15791.367041743 m_{K} \\omega_{0}^{2} r^{2} \\rho_{K}\\right)^{2} + 24936727304.7046 T_{0}^{2} \\Delta m_{F}^{2} l^{6} m_{K}^{2} \\omega_{0}^{6} \\rho_{K}^{4} + 24936727304.7046 T_{0}^{2} \\Delta m_{K}^{2} l^{6} m_{F}^{2} \\omega_{0}^{6} \\rho_{K}^{4} + 574542197100.395 T_{0}^{2} \\Delta r^{2} l^{2} m_{K}^{4} \\omega_{0}^{6} r^{2} \\rho_{K}^{4} + 897722182969.366 T_{0}^{2} \\Delta rho_{K}^{2} l^{6} m_{K}^{4} \\omega_{0}^{6} \\rho_{L}^{2} + 897722182969.366 T_{0}^{2} \\Delta rho_{L}^{2} l^{6} m_{K}^{4} \\omega_{0}^{6} \\rho_{K}^{2} + 56107636435.5854 T_{0}^{2} \\Delta varphi^{2} l^{6} m_{K}^{4} \\omega_{0}^{6} \\rho_{K}^{4} \\varphi^{2} + 6234181826.17616 \\Delta T_{0}^{2} l^{2} m_{K}^{2} \\omega_{0}^{2} \\rho_{K}^{2} \\left(24 \\\\Delta elta^{2} l^{2} m_{K} \\rho_{K} - 4 l^{2} m_{F} \\omega_{0}^{2} \\rho_{K} + 3 l^{2} m_{K} \\omega_{0}^{2} \\rho_{K} \\left(\\varphi^{2} + 8\\right) + 24 l^{2} m_{K} \\omega_{0}^{2} \\rho_{L} + 9.6 m_{K} \\omega_{0}^{2} r^{2} \\rho_{K}\\right)^{2}}{T_{0}^{2} l^{2} m_{K}^{2} \\omega_{0}^{2} \\rho_{K}^{2} \\left(24 \\\\Delta elta^{2} l^{2} m_{K} \\rho_{K} - 4 l^{2} m_{F} \\omega_{0}^{2} \\rho_{K} + 3 l^{2} m_{K} \\omega_{0}^{2} \\rho_{K} \\left(\\varphi^{2} + 8\\right) + 24 l^{2} m_{K} \\omega_{0}^{2} \\rho_{L} + 9.6 m_{K} \\omega_{0}^{2} r^{2} \\rho_{K}\\right)^{2}}}$"
      ],
      "text/plain": [
       "<IPython.core.display.Math object>"
      ]
     },
     "metadata": {},
     "output_type": "display_data"
    },
    {
     "name": "stdout",
     "output_type": "stream",
     "text": [
      "\\Delta f/f=2.53302959105844 \\c\\Delta ot 10^{-5} \\sqrt{\\frac{3590888731877.47 T_{0}^{2} \\Delta \\Delta elta^{2} \\\\Delta elta^{2} l^{6} m_{K}^{4} \\omega_{0}^{2} \\rho_{K}^{4} + 3590888731877.47 T_{0}^{2} \\\\Delta elta^{4} \\Delta omega_{0}^{2} l^{6} m_{K}^{4} \\rho_{K}^{4} + 576 T_{0}^{2} \\Delta l^{2} m_{K}^{2} \\omega_{0}^{2} \\rho_{K}^{2} \\left(39478.4176043574 \\\\Delta elta^{2} l^{2} m_{K} \\rho_{K} - 6579.73626739291 l^{2} m_{F} \\omega_{0}^{2} \\rho_{K} + 4934.80220054468 l^{2} m_{K} \\omega_{0}^{2} \\rho_{K} \\left(\\varphi^{2} + 8\\right) + 39478.4176043574 l^{2} m_{K} \\omega_{0}^{2} \\rho_{L} - 15791.367041743 m_{K} \\omega_{0}^{2} r^{2} \\rho_{K}\\right)^{2} + 24936727304.7046 T_{0}^{2} \\Delta m_{F}^{2} l^{6} m_{K}^{2} \\omega_{0}^{6} \\rho_{K}^{4} + 24936727304.7046 T_{0}^{2} \\Delta m_{K}^{2} l^{6} m_{F}^{2} \\omega_{0}^{6} \\rho_{K}^{4} + 574542197100.395 T_{0}^{2} \\Delta r^{2} l^{2} m_{K}^{4} \\omega_{0}^{6} r^{2} \\rho_{K}^{4} + 897722182969.366 T_{0}^{2} \\Delta rho_{K}^{2} l^{6} m_{K}^{4} \\omega_{0}^{6} \\rho_{L}^{2} + 897722182969.366 T_{0}^{2} \\Delta rho_{L}^{2} l^{6} m_{K}^{4} \\omega_{0}^{6} \\rho_{K}^{2} + 56107636435.5854 T_{0}^{2} \\Delta varphi^{2} l^{6} m_{K}^{4} \\omega_{0}^{6} \\rho_{K}^{4} \\varphi^{2} + 6234181826.17616 \\Delta T_{0}^{2} l^{2} m_{K}^{2} \\omega_{0}^{2} \\rho_{K}^{2} \\left(24 \\\\Delta elta^{2} l^{2} m_{K} \\rho_{K} - 4 l^{2} m_{F} \\omega_{0}^{2} \\rho_{K} + 3 l^{2} m_{K} \\omega_{0}^{2} \\rho_{K} \\left(\\varphi^{2} + 8\\right) + 24 l^{2} m_{K} \\omega_{0}^{2} \\rho_{L} + 9.6 m_{K} \\omega_{0}^{2} r^{2} \\rho_{K}\\right)^{2}}{T_{0}^{2} l^{2} m_{K}^{2} \\omega_{0}^{2} \\rho_{K}^{2} \\left(24 \\\\Delta elta^{2} l^{2} m_{K} \\rho_{K} - 4 l^{2} m_{F} \\omega_{0}^{2} \\rho_{K} + 3 l^{2} m_{K} \\omega_{0}^{2} \\rho_{K} \\left(\\varphi^{2} + 8\\right) + 24 l^{2} m_{K} \\omega_{0}^{2} \\rho_{L} + 9.6 m_{K} \\omega_{0}^{2} r^{2} \\rho_{K}\\right)^{2}}}\n"
     ]
    },
    {
     "data": {
      "text/latex": [
       "$\\displaystyle f= 9819.99 \\pm  16.03$"
      ],
      "text/plain": [
       "<IPython.core.display.Math object>"
      ]
     },
     "metadata": {},
     "output_type": "display_data"
    },
    {
     "data": {
      "text/latex": [
       "$\\displaystyle f= 9819.99 \\pm    0.2  \\%$"
      ],
      "text/plain": [
       "<IPython.core.display.Math object>"
      ]
     },
     "metadata": {},
     "output_type": "display_data"
    }
   ],
   "source": [
    "#Latex Darstellungen\n",
    "print('Funktion:')\n",
    "display(Math(\"f=\"+sp.latex(funktion)))\n",
    "\n",
    "print('Messwerte:')\n",
    "for i in range(len(variablen)):\n",
    "    display(Math(str(variablen[i])+'='+ str(variablen_werte[i])+'\\pm '+ str(fehler_werte[i])))  #Messwerte mit Fehler\n",
    "\n",
    "print('Absoluter Fehler:')\n",
    "display(Math(r'\\Delta f='+sp.latex(fehler_abs).replace('d',r'\\Delta ')))   #Formel absoluter Fehler\n",
    "print('Relativer Fehler:')\n",
    "display(Math(r\"\\Delta f/f=\"+sp.latex(fehler_rel).replace('d',r'\\Delta ')))\n",
    "print(str((r\"\\Delta f/f=\"+sp.latex(fehler_rel).replace('d',r'\\Delta '))))\n",
    "display(Math(\"f= %6.2f \\pm %6.2f\" %(funktions_wert,sp.sqrt(err2))))        #Messwert und Wert des absoluten Fehler\n",
    "display(Math(\"f= %6.2f \\pm %6.1f %s\" %(funktions_wert,sp.sqrt(err2)/funktions_wert*100,\" \\%\"))) #dito als relativer Fehler"
   ]
  }
 ],
 "metadata": {
  "kernelspec": {
   "display_name": "Python 3",
   "language": "python",
   "name": "python3"
  },
  "language_info": {
   "codemirror_mode": {
    "name": "ipython",
    "version": 3
   },
   "file_extension": ".py",
   "mimetype": "text/x-python",
   "name": "python",
   "nbconvert_exporter": "python",
   "pygments_lexer": "ipython3",
   "version": "3.13.1"
  }
 },
 "nbformat": 4,
 "nbformat_minor": 0
}
